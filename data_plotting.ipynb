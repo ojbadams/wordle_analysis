{
 "cells": [
  {
   "cell_type": "code",
   "execution_count": 13,
   "metadata": {},
   "outputs": [],
   "source": [
    "import pandas as pd\n",
    "\n",
    "df = pd.read_csv(\"letter_quantity_distributions.csv\")\n",
    "\n",
    "values = []\n",
    "\n",
    "for posi in range(0, 5):\n",
    "    values.append(df[df[\"Position\"] == posi][[\"Letter\", \"0\"]].values[:5])"
   ]
  },
  {
   "cell_type": "code",
   "execution_count": 112,
   "metadata": {},
   "outputs": [
    {
     "data": {
      "image/png": "[encoded data removed]",
      "text/plain": [
       "<Figure size 864x504 with 1 Axes>"
      ]
     },
     "metadata": {
      "needs_background": "light"
     },
     "output_type": "display_data"
    }
   ],
   "source": [
    "bar_lengths = []\n",
    "\n",
    "for i in range(0, 5):\n",
    "    for j in list(values[i][:, 1]):\n",
    "        bar_lengths.append(j)\n",
    "    bar_lengths.append(0)\n",
    "\n",
    "letters = []\n",
    "for i in range(0, 5):\n",
    "    for j in list(values[i][:, 0]):\n",
    "        letters.append(j)\n",
    "    letters.append(\"\")\n",
    "\n",
    "x_pos = [i for i in range(len(bar_lengths))]\n",
    "\n",
    "import matplotlib.pyplot as plt\n",
    "\n",
    "plt.figure(figsize=(12, 7))\n",
    "plt.bar(x_pos, bar_lengths, color = \"grey\"); \n",
    "plt.xticks(x_pos, letters, fontweight=\"bold\", fontsize=14);\n",
    "plt.yticks(fontweight=\"bold\", fontsize=14)\n",
    "plt.title(\"Letter Frequency By Position\", fontweight=\"bold\", fontsize=14)\n",
    "plt.ylabel(\"Freq.\", fontweight=\"bold\", fontsize=14)\n",
    "\n",
    "h = 3750\n",
    "\n",
    "plt.fill_between([-0.5, 4.5], [h, h], 0,\n",
    "                facecolor=\"grey\", # The fill color\n",
    "                color='grey',       # The outline color\n",
    "                alpha=0.2)\n",
    "plt.fill_between([5.5, 10.5], [h, h], 0,\n",
    "                facecolor=\"grey\", # The fill color\n",
    "                color='grey',       # The outline color\n",
    "                alpha=0.2)\n",
    "plt.fill_between([11.5, 16.5], [h, h], 0,\n",
    "                facecolor=\"grey\", # The fill color\n",
    "                color='grey',       # The outline color\n",
    "                alpha=0.2)\n",
    "plt.fill_between([17.5, 22.5], [h, h], 0,\n",
    "                facecolor=\"grey\", # The fill color\n",
    "                color='grey',       # The outline color\n",
    "                alpha=0.2)\n",
    "plt.fill_between([23.5, 28.5], [h, h], 0,\n",
    "                facecolor=\"grey\", # The fill color\n",
    "                color='grey',       # The outline color\n",
    "                alpha=0.2)\n",
    "\n",
    "plt.text(0.5, h-200, \"Letter 1\", fontweight=\"bold\", fontsize = 14)\n",
    "plt.text(6.5, h-200, \"Letter 2\", fontweight=\"bold\", fontsize = 14)\n",
    "plt.text(12.5, h-200, \"Letter 3\", fontweight=\"bold\", fontsize = 14)\n",
    "plt.text(18.5, h-200, \"Letter 4\", fontweight=\"bold\", fontsize = 14)\n",
    "plt.text(25, h-200, \"Letter 5\", fontweight=\"bold\", fontsize = 14)\n",
    "\n",
    "plt.savefig(\"letter_freq.png\", dpi=800)"
   ]
  },
  {
   "cell_type": "code",
   "execution_count": null,
   "metadata": {},
   "outputs": [],
   "source": []
  }
 ],
 "metadata": {
  "interpreter": {
   "hash": "916dbcbb3f70747c44a77c7bcd40155683ae19c65e1c03b4aa3499c5328201f1"
  },
  "kernelspec": {
   "display_name": "Python 3.8.10 64-bit",
   "language": "python",
   "name": "python3"
  },
  "language_info": {
   "codemirror_mode": {
    "name": "ipython",
    "version": 3
   },
   "file_extension": ".py",
   "mimetype": "text/x-python",
   "name": "python",
   "nbconvert_exporter": "python",
   "pygments_lexer": "ipython3",
   "version": "3.8.10"
  },
  "orig_nbformat": 4
 },
 "nbformat": 4,
 "nbformat_minor": 2
}
